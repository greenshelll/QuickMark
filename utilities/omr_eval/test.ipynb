{
 "cells": [
  {
   "cell_type": "code",
   "execution_count": 288,
   "metadata": {},
   "outputs": [
    {
     "name": "stdout",
     "output_type": "stream",
     "text": [
      ".                                                                                                    \n",
      "                                                                                                     \n",
      "                                                                                                     \n",
      "                                                                                                     \n",
      "                                                                                                     \n",
      "                                                                                                     \n",
      "                                                                                                     \n",
      "                                                                                                     \n",
      "                                                                                                     \n",
      "                                                                                                     \n",
      "                                                                                                     \n",
      "                                                                                                     \n",
      "                                                                                                     \n",
      "                                                                                                     \n",
      "                                                                                                     \n",
      "                                                                                                     \n",
      "                                                                                                     \n",
      "                                                                                                     \n",
      "                                                                                                     \n",
      "                                                                                                     \n",
      "                                                                                                     \n",
      "                                                                                                     \n",
      "                                                                                                     \n",
      "                                                                                                     \n",
      "                                                                                                     \n",
      "                                                                                                     \n",
      "                                                                                                     \n",
      "                                                                                                     \n",
      "                                                                                                     \n",
      "                                                                                                     \n",
      "                                                                                                     \n",
      "                                                                                                     \n",
      "                                                                                                     \n",
      "                                                                                                     \n",
      "                                                                                                     \n",
      "                                                                                                     \n",
      "                                                                                                     \n",
      "                                                                                                     \n",
      "                                                                                                     \n",
      "                                                                                                     \n",
      "                                                                                                     \n",
      "                                                                                                     \n",
      "                                                                                                     \n",
      "                                                                                                     \n",
      "                                                                                                     \n",
      "                                                                                                     \n",
      "                                                                                                     \n",
      "                                                                                                     \n",
      "                                                                                                     \n",
      "                                                                                                     \n",
      "                                                                                                     \n",
      "                                                                                                     \n",
      "                                                                                                     \n",
      "                                                                                                     \n",
      "                                                                                                     \n",
      "                                                                                                     \n",
      "                                                                                                     \n",
      "                                                                                                     \n",
      "                                                                                                     \n",
      "                                                                                                     \n",
      "                                                                                                     \n",
      "                                                                                                     \n",
      "                                                                                                     \n",
      "                                                                                                     \n",
      "                                                                                                     \n",
      "                                                                                                     \n",
      "                                                                                                     \n",
      "                                                                                                     \n",
      "                                                                                                     \n",
      "                                                                                                     \n",
      "                                                                                                     \n",
      "                                                                                                     \n",
      "                                                                                                     \n",
      "                                                                                                     \n",
      "                                                                                                     \n",
      "                                                                                                     \n",
      "                                                                                                     \n",
      "                                                                                                     \n",
      "                                                                                                     \n",
      "                                                                                                     \n",
      "                                                                                                     \n",
      "                                                                                                     \n",
      "                                                                                                     \n",
      "                                                                                                     \n",
      "                                                                                                     \n",
      "                                                                                                     \n",
      "                                                                                                     \n",
      "                                                                                                     \n",
      "                                                                                                     \n",
      "                                                                                                     \n",
      "                                                                                                     \n",
      "                                                                                                     \n",
      "                                                                                                     \n",
      "                                                                                                     \n",
      "                                                                                                     \n",
      "                                                                                                     \n",
      "                                                                                                     \n",
      "                                                                                                     \n",
      "                                                                                                     \n",
      "                                                                                                     \n",
      "                                                                                                    .\n"
     ]
    }
   ],
   "source": [
    "def print_points_as_dots(coordinates):\n",
    "    # Find the minimum and maximum coordinates\n",
    "    min_x = min(coord[0] for coord in coordinates)\n",
    "    max_x = max(coord[0] for coord in coordinates)\n",
    "    min_y = min(coord[1] for coord in coordinates)\n",
    "    max_y = max(coord[1] for coord in coordinates)\n",
    "\n",
    "    # Create a grid\n",
    "    grid = [[' ' for _ in range(min_x, max_x + 1)] for _ in range(min_y, max_y + 1)]\n",
    "\n",
    "    # Mark the points on the grid\n",
    "    for x, y in coordinates:\n",
    "        grid[y - min_y][x - min_x] = '.'\n",
    "\n",
    "    # Print the grid\n",
    "    for row in grid:\n",
    "        print(''.join(row))\n",
    "\n",
    "# Example usage:\n",
    "coordinates =  [[100,100],[200,200]]\n",
    "print_points_as_dots(coordinates)"
   ]
  },
  {
   "cell_type": "code",
   "execution_count": 293,
   "metadata": {},
   "outputs": [
    {
     "data": {
      "text/plain": [
       "array(['False', 'False', 'True', 'True', 'False', 'False', 'True', 'True',\n",
       "       'False', 'False', 'False', 'False', 'True', 'False', 'False',\n",
       "       'False', 'False', 'True', 'True', 'False', 'True', 'True', 'False',\n",
       "       'False', 'False', 'False', 'False', 'True', 'True', 'True',\n",
       "       'False', 'False', 'False', 'False', 'True', 'True', 'True',\n",
       "       'False', 'True', 'True', 'True', 'True', 'True', 'False', 'True',\n",
       "       'False', 'False', 'False', 'True', 'True', 'True', 'False', 'True',\n",
       "       'True', 'True', 'False', 'True', 'False', 'True', 'False', 'False',\n",
       "       'False', 'False', 'True', 'False', 'False', 'False', 'False',\n",
       "       'True', 'True', 'True', 'True', 'True', 'True', 'True', 'True',\n",
       "       'False', 'False', 'True', 'False', 'False', 'False', 'False',\n",
       "       'True', 'True', 'True', 'False', 'True', 'False', 'False', 'True',\n",
       "       'False', 'False', 'False', 'True', 'False', 'True', 'True', 'True',\n",
       "       'False'], dtype='<U5')"
      ]
     },
     "execution_count": 293,
     "metadata": {},
     "output_type": "execute_result"
    }
   ],
   "source": [
    "import random\n",
    "import numpy as np\n",
    "letters = 'True False'.split(' ')\n",
    "items = []\n",
    "for x in range(100):\n",
    "    items.append(letters[random.randint(0,1)])\n",
    "np.array(items)"
   ]
  },
  {
   "cell_type": "code",
   "execution_count": 285,
   "metadata": {},
   "outputs": [
    {
     "data": {
      "image/png": "[encoded data removed]",
      "text/plain": [
       "<Figure size 800x600 with 1 Axes>"
      ]
     },
     "metadata": {},
     "output_type": "display_data"
    },
    {
     "data": {
      "image/png": "[encoded data removed]",
      "text/plain": [
       "<Figure size 800x600 with 1 Axes>"
      ]
     },
     "metadata": {},
     "output_type": "display_data"
    }
   ],
   "source": [
    "import matplotlib.pyplot as plt\n",
    "\n",
    "# Coordinates of the points\n",
    "#facing left\n",
    "points = [\n",
    "    [119, 632],\n",
    "    [134, 2846],\n",
    "    [2339, 2824],\n",
    "    [2317, 637]\n",
    "]\n",
    "#facing top\n",
    "points2 = [\n",
    "    [739, 198],\n",
    "    [1772, 208],\n",
    "    [1802, 3580],\n",
    "    [790, 3589]\n",
    "]\n",
    "#fliped\n",
    "points3 = [\n",
    "    [1569, 571],\n",
    "    [810, 573],\n",
    "    [804, 3134],\n",
    "    [1670, 3112]\n",
    "]\n",
    "from numpy import array\n",
    "points3_rot =rotate_points_90_degrees(points)\n",
    "points4 = [[141, 0], [178, 152], [150, 4], [291, 11]]\n",
    "\n",
    "# Plotting the points\n",
    "plt.figure(figsize=(8, 6))\n",
    "for i, point in enumerate(points):\n",
    "    plt.scatter(point[0], point[1], label=f\"Point {i+1}\", color='blue')\n",
    "    plt.annotate(f\"Point {i+1}\", (point[0], point[1]), textcoords=\"offset points\", xytext=(0,10), ha='center')\n",
    "plt.figure(figsize=(8, 6))\n",
    "for i, point in enumerate(points3_rot):\n",
    "    plt.scatter(point[0], point[1], label=f\"Point {i+1}\", color='blue')\n",
    "    plt.annotate(f\"Point {i+1}\", (point[0], point[1]), textcoords=\"offset points\", xytext=(0,10), ha='center')\n",
    "\n",
    "plt.gca().set_aspect('equal', adjustable='box')\n",
    "plt.xlabel('X')\n",
    "plt.ylabel('Y')\n",
    "plt.title('Annotated Points')\n",
    "plt.legend()\n",
    "plt.grid(True)\n",
    "plt.show()"
   ]
  },
  {
   "cell_type": "code",
   "execution_count": 45,
   "metadata": {},
   "outputs": [],
   "source": [
    "import numpy as np\n",
    "def direction(p1,p2):\n",
    "    p1,p2 = np.array(p1), np.array(p2)\n",
    "    vector = p1-p2\n",
    "    direction = vector / np.linalg.norm(vector)\n",
    "    direction = np.round(direction)\n",
    "    return direction\n",
    "    "
   ]
  },
  {
   "cell_type": "code",
   "execution_count": 53,
   "metadata": {},
   "outputs": [
    {
     "data": {
      "text/plain": [
       "array([-0., -1.])"
      ]
     },
     "execution_count": 53,
     "metadata": {},
     "output_type": "execute_result"
    }
   ],
   "source": [
    "a=direction(points[0], points[1]) #facing left\n",
    "a"
   ]
  },
  {
   "cell_type": "code",
   "execution_count": 264,
   "metadata": {},
   "outputs": [],
   "source": [
    "def direction_between_points(points):\n",
    "    def direction(p1, p2):\n",
    "        p1, p2 = np.array(p1), np.array(p2)\n",
    "        vector = p2 - p1\n",
    "        direction = vector / np.linalg.norm(vector)\n",
    "        direction = np.round(direction)\n",
    "        return direction\n",
    "\n",
    "    directions = []\n",
    "    for i in range(len(points) - 1):  # Loop over all points except the last one\n",
    "        directions.append(direction(points[i], points[i+1]))\n",
    "\n",
    "    return np.array(directions)"
   ]
  },
  {
   "cell_type": "code",
   "execution_count": 242,
   "metadata": {},
   "outputs": [
    {
     "data": {
      "text/plain": [
       "array([-1., -0.])"
      ]
     },
     "execution_count": 242,
     "metadata": {},
     "output_type": "execute_result"
    }
   ],
   "source": [
    "direction(points2[0], points2[1]) # correct"
   ]
  },
  {
   "cell_type": "code",
   "execution_count": 265,
   "metadata": {},
   "outputs": [
    {
     "data": {
      "text/plain": [
       "array([[ 1.,  0.],\n",
       "       [ 0.,  1.],\n",
       "       [-1.,  0.]])"
      ]
     },
     "execution_count": 265,
     "metadata": {},
     "output_type": "execute_result"
    }
   ],
   "source": [
    "correct = direction_between_points(points2)\n",
    "correct"
   ]
  },
  {
   "cell_type": "code",
   "execution_count": 276,
   "metadata": {},
   "outputs": [
    {
     "data": {
      "text/plain": [
       "array([[ 1.,  0.],\n",
       "       [ 0.,  1.],\n",
       "       [-1., -0.]])"
      ]
     },
     "execution_count": 276,
     "metadata": {},
     "output_type": "execute_result"
    }
   ],
   "source": [
    "direction_between_points(flip_points_horizontal(points3))"
   ]
  },
  {
   "cell_type": "code",
   "execution_count": 277,
   "metadata": {},
   "outputs": [
    {
     "data": {
      "text/plain": [
       "0"
      ]
     },
     "execution_count": 277,
     "metadata": {},
     "output_type": "execute_result"
    }
   ],
   "source": [
    "np.sum(direction_between_points(flip_points_horizontal(points3)) != correct)"
   ]
  },
  {
   "cell_type": "code",
   "execution_count": 186,
   "metadata": {},
   "outputs": [],
   "source": []
  },
  {
   "cell_type": "code",
   "execution_count": 278,
   "metadata": {},
   "outputs": [],
   "source": [
    "def flip_points_horizontal(points):\n",
    "    flipped_points = [[-point[0], point[1]] for point in points]\n",
    "    return flipped_points\n",
    "def flip_points_vertical(points):\n",
    "    flipped_points = [[point[0], -point[1]] for point in points]\n",
    "    return flipped_points\n",
    "def rotate_points_90_degrees(points):\n",
    "    rotated_points = [[-point[1], point[0]] for point in points]\n",
    "    return rotated_points\n",
    "def direction_between_points(points):\n",
    "    def direction(p1, p2):\n",
    "        p1, p2 = np.array(p1), np.array(p2)\n",
    "        vector = p2 - p1\n",
    "        direction = vector / np.linalg.norm(vector)\n",
    "        direction = np.round(direction)\n",
    "        return direction\n",
    "\n",
    "    directions = []\n",
    "    for i in range(len(points) - 1):  # Loop over all points except the last one\n",
    "        directions.append(direction(points[i], points[i+1]))\n",
    "\n",
    "    return np.array(directions)\n",
    "def is_correct(directions, custom_correct=None):\n",
    "    if custom_correct is None:\n",
    "        correct = array([[ 1.,  0.],\n",
    "       [ 0.,  1.],\n",
    "       [-1.,  0.]])\n",
    "    else:\n",
    "        correct = custom_correct\n",
    "    print('current')\n",
    "    print(directions)\n",
    "    print('correct')\n",
    "    print(correct)\n",
    "    if np.sum(directions != correct) == 0:\n",
    "        return True\n",
    "    else:\n",
    "        return False\n",
    "\n",
    "def operate_orient(points):\n",
    "    operations = [flip_points_horizontal,flip_points_vertical,rotate_points_90_degrees]\n",
    "    operations_actual = ['horizontal flip', 'vertical flip', '90 degrees rotate']\n",
    "    operation_sequence = []\n",
    "    ground = direction_between_points(points)\n",
    "    current = []\n",
    "    operated_current = None\n",
    "    while True:\n",
    "        stop = False\n",
    "        for op_i in range(len(operations)):\n",
    "            current = operations[op_i](points)\n",
    "            print(operations[op_i])\n",
    "            operation_sequence.append(operations_actual[op_i])\n",
    "            directions = direction_between_points(current)\n",
    "            if is_correct(directions):\n",
    "                stop = True\n",
    "                print(\"STOPING\")\n",
    "                break\n",
    "        if stop:\n",
    "            break\n",
    "        points = current\n",
    "        if is_correct(ground, direction_between_points(current)):\n",
    "            break\n",
    "        \n",
    "    return operation_sequence"
   ]
  },
  {
   "cell_type": "code",
   "execution_count": 279,
   "metadata": {},
   "outputs": [
    {
     "name": "stdout",
     "output_type": "stream",
     "text": [
      "<function flip_points_horizontal at 0x0000020D94794550>\n",
      "current\n",
      "[[-0.  1.]\n",
      " [-1. -0.]\n",
      " [ 0. -1.]]\n",
      "correct\n",
      "[[ 1.  0.]\n",
      " [ 0.  1.]\n",
      " [-1.  0.]]\n",
      "<function flip_points_vertical at 0x0000020D94795BD0>\n",
      "current\n",
      "[[ 0. -1.]\n",
      " [ 1.  0.]\n",
      " [-0.  1.]]\n",
      "correct\n",
      "[[ 1.  0.]\n",
      " [ 0.  1.]\n",
      " [-1.  0.]]\n",
      "<function rotate_points_90_degrees at 0x0000020D94796E60>\n",
      "current\n",
      "[[-1.  0.]\n",
      " [ 0.  1.]\n",
      " [ 1. -0.]]\n",
      "correct\n",
      "[[ 1.  0.]\n",
      " [ 0.  1.]\n",
      " [-1.  0.]]\n",
      "current\n",
      "[[ 0.  1.]\n",
      " [ 1. -0.]\n",
      " [-0. -1.]]\n",
      "correct\n",
      "[[-1.  0.]\n",
      " [ 0.  1.]\n",
      " [ 1. -0.]]\n",
      "<function flip_points_horizontal at 0x0000020D94794550>\n",
      "current\n",
      "[[ 1.  0.]\n",
      " [-0.  1.]\n",
      " [-1. -0.]]\n",
      "correct\n",
      "[[ 1.  0.]\n",
      " [ 0.  1.]\n",
      " [-1.  0.]]\n",
      "STOPING\n"
     ]
    },
    {
     "data": {
      "text/plain": [
       "['horizontal flip', 'vertical flip', '90 degrees rotate', 'horizontal flip']"
      ]
     },
     "execution_count": 279,
     "metadata": {},
     "output_type": "execute_result"
    }
   ],
   "source": [
    "operate_orient(points)"
   ]
  },
  {
   "cell_type": "code",
   "execution_count": 49,
   "metadata": {},
   "outputs": [
    {
     "data": {
      "text/plain": [
       "array([ 1., -0.])"
      ]
     },
     "execution_count": 49,
     "metadata": {},
     "output_type": "execute_result"
    }
   ],
   "source": [
    "direction(points3[0], points3[1]) # flipped"
   ]
  },
  {
   "cell_type": "code",
   "execution_count": 281,
   "metadata": {},
   "outputs": [
    {
     "data": {
      "text/plain": [
       "array([[ 1.,  0.],\n",
       "       [-0.,  1.],\n",
       "       [-1., -0.]])"
      ]
     },
     "execution_count": 281,
     "metadata": {},
     "output_type": "execute_result"
    }
   ],
   "source": [
    "direction_between_points(flip_points_horizontal(flip_points_vertical(rotate_points_90_degrees(flip_points_horizontal(points)))))"
   ]
  },
  {
   "cell_type": "code",
   "execution_count": 43,
   "metadata": {},
   "outputs": [
    {
     "name": "stdout",
     "output_type": "stream",
     "text": [
      "Direction from set 1 to set 2: [-0.71 -0.71]\n"
     ]
    }
   ],
   "source": [
    "import numpy as np\n",
    "\n",
    "# Define the coordinates of the points\n",
    "point1_set1 = np.array([1, 2])  # Coordinates of the first point in the first set\n",
    "point2_set1 = np.array([3, 4])  # Coordinates of the second point in the first set\n",
    "point1_set2 = np.array([5, 6])  # Coordinates of the first point in the second set\n",
    "point2_set2 = np.array([7, 8])\n",
    "\n",
    "# Calculate the vectors\n",
    "vector_set1_to_set2 = point1_set2 - point1_set1\n",
    "vector_set2_to_set1 = point1_set1 - point1_set2\n",
    "\n",
    "# The direction is the same for both vectors\n",
    "#direction = vector_set1_to_set2 / np.linalg.norm(vector_set1_to_set2)\n",
    "\n",
    "print(\"Direction from set 1 to set 2:\", direction(point1_set1, point1_set2))"
   ]
  },
  {
   "cell_type": "code",
   "execution_count": 63,
   "metadata": {},
   "outputs": [],
   "source": [
    "def rotate_points(points, center, angle):\n",
    "    # Convert angle to radians\n",
    "    angle_rad = np.radians(angle)\n",
    "    \n",
    "    # Convert center point to numpy array\n",
    "    center = np.array(center)\n",
    "    \n",
    "    # Initialize list to store rotated points\n",
    "    rotated_points = []\n",
    "    \n",
    "    # Iterate through each point\n",
    "    for point in points:\n",
    "        # Convert point to numpy array\n",
    "        point = np.array(point)\n",
    "        \n",
    "        # Translate point to origin (subtract center)\n",
    "        translated_point = point - center\n",
    "        \n",
    "        # Perform rotation\n",
    "        rotated_x = translated_point[0] * np.cos(angle_rad) - translated_point[1] * np.sin(angle_rad)\n",
    "        rotated_y = translated_point[0] * np.sin(angle_rad) + translated_point[1] * np.cos(angle_rad)\n",
    "        \n",
    "        # Translate point back to original position (add center)\n",
    "        rotated_point = np.array([rotated_x, rotated_y]) + center\n",
    "        \n",
    "        # Append rotated point to list\n",
    "        rotated_points.append(rotated_point)\n",
    "    \n",
    "    return rotated_points"
   ]
  },
  {
   "cell_type": "code",
   "execution_count": 70,
   "metadata": {},
   "outputs": [],
   "source": [
    "def calculate_center(points):\n",
    "    # Convert points to numpy array for easy manipulation\n",
    "    points_array = np.array(points)\n",
    "\n",
    "    # Calculate the mean of x-coordinates and y-coordinates\n",
    "    center_x = np.mean(points_array[:, 0])\n",
    "    center_y = np.mean(points_array[:, 1])\n",
    "\n",
    "    center = [center_x, center_y]\n",
    "    print(center)\n",
    "    return center"
   ]
  },
  {
   "cell_type": "code",
   "execution_count": 76,
   "metadata": {},
   "outputs": [
    {
     "name": "stdout",
     "output_type": "stream",
     "text": [
      "[1213.25, 1847.5]\n",
      "Rotated points: [array([2489.75, 2203.25]), array([2487.75, 1444.25]), array([ -73.25, 1438.25]), array([ -51.25, 2304.25])]\n"
     ]
    }
   ],
   "source": [
    "points3 = [\n",
    "    [1569, 571],\n",
    "    [810, 573],\n",
    "    [804, 3134],\n",
    "    [1670, 3112]\n",
    "]\n",
    "\n",
    "center = calculate_center(points3)  # Center of rotation\n",
    "angle = 90  # Angle of rotation in degrees\n",
    "\n",
    "rotated_points = rotate_points(points3, center, angle)\n",
    "print(\"Rotated points:\", rotated_points)"
   ]
  },
  {
   "cell_type": "code",
   "execution_count": 88,
   "metadata": {},
   "outputs": [
    {
     "name": "stdout",
     "output_type": "stream",
     "text": [
      "Flipped points: [[571, 1569], [573, 810], [3134, 804], [3112, 1670]]\n"
     ]
    }
   ],
   "source": [
    "def flip_points(points):\n",
    "    flipped_points = [[point[1], point[0]] for point in points]\n",
    "    return flipped_points\n",
    "\n",
    "# Example usage\n",
    "points3 = [\n",
    "    [1569, 571],\n",
    "    [810, 573],\n",
    "    [804, 3134],\n",
    "    [1670, 3112]\n",
    "]\n",
    "\n",
    "flipped_points = flip_points(points3)\n",
    "print(\"Flipped points:\", flipped_points)"
   ]
  },
  {
   "cell_type": "code",
   "execution_count": 98,
   "metadata": {},
   "outputs": [
    {
     "name": "stdout",
     "output_type": "stream",
     "text": [
      "Flipped points: [[571, 1569], [573, 810], [3134, 804], [3112, 1670]]\n"
     ]
    }
   ],
   "source": [
    "def flip_points(points):\n",
    "    flipped_points = [[point[1], point[0]] for point in points]\n",
    "    return flipped_points\n",
    "\n",
    "# Example usage\n",
    "points3 = [\n",
    "    [1569, 571],\n",
    "    [810, 573],\n",
    "    [804, 3134],\n",
    "    [1670, 3112]\n",
    "]\n",
    "\n",
    "flipped_points = flip_points(points3)\n",
    "print(\"Flipped points:\", flipped_points)"
   ]
  },
  {
   "cell_type": "code",
   "execution_count": 94,
   "metadata": {},
   "outputs": [
    {
     "name": "stdout",
     "output_type": "stream",
     "text": [
      "Rotated points by 90 degrees: [[-1569, -571], [-810, -573], [-804, -3134], [-1670, -3112]]\n"
     ]
    }
   ],
   "source": [
    "def rotate_points_90_degrees(points):\n",
    "    rotated_points = [[-point[1], point[0]] for point in points]\n",
    "    return rotated_points\n",
    "\n",
    "# Example usage\n",
    "points3 =[[-571, 1569], [-573, 810], [-3134, 804], [-3112, 1670]]\n",
    "\n",
    "rotated_points = rotate_points_90_degrees(points3)\n",
    "print(\"Rotated points by 90 degrees:\", rotated_points)"
   ]
  },
  {
   "cell_type": "code",
   "execution_count": 105,
   "metadata": {},
   "outputs": [
    {
     "name": "stdout",
     "output_type": "stream",
     "text": [
      "Horizontally flipped points: [[-1569, 571], [-810, 573], [-804, 3134], [-1670, 3112]]\n"
     ]
    }
   ],
   "source": [
    "def flip_points_horizontal(points):\n",
    "    flipped_points = [[-point[0], point[1]] for point in points]\n",
    "    return flipped_points\n",
    "\n",
    "# Example usage\n",
    "points3 = [\n",
    "    [1569, 571],\n",
    "    [810, 573],\n",
    "    [804, 3134],\n",
    "    [1670, 3112]\n",
    "]\n",
    "\n",
    "flipped_points = flip_points_horizontal(points3)\n",
    "print(\"Horizontally flipped points:\", flipped_points)\n"
   ]
  },
  {
   "cell_type": "code",
   "execution_count": null,
   "metadata": {},
   "outputs": [],
   "source": []
  },
  {
   "cell_type": "code",
   "execution_count": 110,
   "metadata": {},
   "outputs": [
    {
     "name": "stdout",
     "output_type": "stream",
     "text": [
      "Vertically flipped points: [[1569, -571], [810, -573], [804, -3134], [1670, -3112]]\n"
     ]
    }
   ],
   "source": [
    "def flip_points_vertical(points):\n",
    "    flipped_points = [[point[0], -point[1]] for point in points]\n",
    "    return flipped_points\n",
    "\n",
    "# Example usage\n",
    "points3 = [\n",
    "    [1569, 571],\n",
    "    [810, 573],\n",
    "    [804, 3134],\n",
    "    [1670, 3112]\n",
    "]\n",
    "\n",
    "flipped_points = flip_points_vertical(points3)\n",
    "print(\"Vertically flipped points:\", flipped_points)\n"
   ]
  },
  {
   "cell_type": "code",
   "execution_count": 152,
   "metadata": {},
   "outputs": [
    {
     "name": "stdout",
     "output_type": "stream",
     "text": [
      "Condition met with transformed points: [(2489.75, 2203.25), (2487.75, 1444.25), (-73.25, 1438.25), (-51.25, 2304.25)]\n"
     ]
    }
   ],
   "source": [
    "import itertools\n",
    "\n",
    "def direction(p1, p2):\n",
    "    p1, p2 = np.array(p1), np.array(p2)\n",
    "    vector = p1 - p2\n",
    "    direction = vector / np.linalg.norm(vector)\n",
    "    direction = np.round(direction)\n",
    "    return direction\n",
    "\n",
    "def brute_force_operations(points, condition):\n",
    "    # Generate all possible combinations of rotations and flips\n",
    "    operations = list(itertools.product([0, 90, 180, 270], [False, True]))\n",
    "\n",
    "    # Apply each combination of operations\n",
    "    for rotation_angle, flip_vertical in operations:\n",
    "        rotated_points = points.copy()\n",
    "        \n",
    "        # Rotate points\n",
    "        if rotation_angle != 0:\n",
    "            center = np.mean(rotated_points, axis=0)\n",
    "            angle_rad = np.radians(rotation_angle)\n",
    "            rotated_points = [(np.cos(angle_rad) * (p[0] - center[0]) - np.sin(angle_rad) * (p[1] - center[1]) + center[0],\n",
    "                               np.sin(angle_rad) * (p[0] - center[0]) + np.cos(angle_rad) * (p[1] - center[1]) + center[1]) for p in rotated_points]\n",
    "        \n",
    "        # Flip points vertically\n",
    "        if flip_vertical:\n",
    "            rotated_points = [(p[0], -p[1]) for p in rotated_points]\n",
    "        \n",
    "        # Check condition\n",
    "        if condition(rotated_points):\n",
    "            return rotated_points\n",
    "    \n",
    "    return None\n",
    "\n",
    "# Example condition: Check if direction between first and second points is [0, 1]\n",
    "def condition(points):\n",
    "    return np.array_equal(direction(points[0], points[1]), [0, 1])\n",
    "\n",
    "# Example usage\n",
    "points = [\n",
    "    [1569, 571],\n",
    "    [810, 573],\n",
    "    [804, 3134],\n",
    "    [1670, 3112]\n",
    "]\n",
    "\n",
    "result = brute_force_operations(points, condition)\n",
    "if result:\n",
    "    print(\"Condition met with transformed points:\", result)\n",
    "else:\n",
    "    print(\"Condition not met.\")"
   ]
  }
 ],
 "metadata": {
  "kernelspec": {
   "display_name": "Python 3",
   "language": "python",
   "name": "python3"
  },
  "language_info": {
   "codemirror_mode": {
    "name": "ipython",
    "version": 3
   },
   "file_extension": ".py",
   "mimetype": "text/x-python",
   "name": "python",
   "nbconvert_exporter": "python",
   "pygments_lexer": "ipython3",
   "version": "3.10.8"
  }
 },
 "nbformat": 4,
 "nbformat_minor": 2
}
