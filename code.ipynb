{
 "cells": [
  {
   "cell_type": "code",
   "execution_count": null,
   "metadata": {},
   "outputs": [],
   "source": []
  },
  {
   "cell_type": "code",
   "execution_count": 114,
   "metadata": {},
   "outputs": [],
   "source": [
    "def _reset_order(self, reordered_lst, interval):\n",
    "    print('resetting order')\n",
    "    original_length = len(reordered_lst)\n",
    "    original_order = [None] * original_length\n",
    "\n",
    "    for i in range(original_length):\n",
    "        original_index = (i % (original_length // interval)) * interval + (i // (original_length // interval))\n",
    "        original_order[original_index] = reordered_lst[i]\n",
    "    \n",
    "    print('resetting order done')\n",
    "    return original_order"
   ]
  },
  {
   "cell_type": "code",
   "execution_count": 112,
   "metadata": {},
   "outputs": [
    {
     "name": "stdout",
     "output_type": "stream",
     "text": [
      "resetting order\n",
      "resetting order done\n"
     ]
    },
    {
     "data": {
      "text/plain": [
       "[1, 4, 2, 5, 3, 6]"
      ]
     },
     "execution_count": 112,
     "metadata": {},
     "output_type": "execute_result"
    }
   ],
   "source": [
    "_reset_order(None, [1,2,3,4,5,6], 2)"
   ]
  },
  {
   "cell_type": "code",
   "execution_count": 154,
   "metadata": {},
   "outputs": [
    {
     "data": {
      "text/plain": [
       "[1, 2, 3, 4, 5]"
      ]
     },
     "execution_count": 154,
     "metadata": {},
     "output_type": "execute_result"
    }
   ],
   "source": [
    "def _reset_order(self, reordered_lst, interval):\n",
    "    import math\n",
    "    repeat_times = math.floor(len(reordered_lst)/interval)\n",
    "    result = []\n",
    "    for index in range(len(reordered_lst)):\n",
    "        temp_index = index\n",
    "        for repeat in range(0,repeat_times+1):\n",
    "            temp_index = temp_index + repeat*interval\n",
    "            result.append(temp_index)\n",
    "            if len(result) == len(reordered_lst):\n",
    "                break\n",
    "        if len(result) == len(reordered_lst):\n",
    "            break\n",
    "\n",
    "    \n",
    "    dic = {key:corr for key,corr in zip(result, reordered_lst)}\n",
    "    sorted_d = dict(sorted(dic.items()))\n",
    "\n",
    "    return list(sorted_d.values())\n",
    "\n",
    "_reset_order(None,[1,3,5,2,4],2)"
   ]
  },
  {
   "cell_type": "code",
   "execution_count": 155,
   "metadata": {},
   "outputs": [
    {
     "data": {
      "text/plain": [
       "[1, 1, 1, 1, 1, 1, 0, 0, 0, 0, 0, 0]"
      ]
     },
     "execution_count": 155,
     "metadata": {},
     "output_type": "execute_result"
    }
   ],
   "source": [
    "_reset_order(None, [1,0,1,0,1,0,1,0,1,0,1,0],12)"
   ]
  },
  {
   "cell_type": "code",
   "execution_count": 56,
   "metadata": {},
   "outputs": [],
   "source": [
    "def reorder_by_interval(lst, interval):\n",
    "    reordered = []\n",
    "    for i in range(interval):\n",
    "        for j in range(i, len(lst), interval):\n",
    "            reordered.append(lst[j])\n",
    "    return reordered"
   ]
  },
  {
   "cell_type": "code",
   "execution_count": 109,
   "metadata": {},
   "outputs": [],
   "source": [
    "array= [1, 2,3,4,5]"
   ]
  },
  {
   "cell_type": "code",
   "execution_count": 138,
   "metadata": {},
   "outputs": [
    {
     "data": {
      "text/plain": [
       "[1, 3, 5, 2, 4]"
      ]
     },
     "execution_count": 138,
     "metadata": {},
     "output_type": "execute_result"
    }
   ],
   "source": [
    "new = reorder_by_interval(array,2)\n",
    "new"
   ]
  },
  {
   "cell_type": "code",
   "execution_count": 116,
   "metadata": {},
   "outputs": [],
   "source": [
    "def reverse_reorder_by_interval(reordered_lst, interval):\n",
    "    original_length = len(reordered_lst)\n",
    "    original_order = [None] * original_length\n",
    "\n",
    "    # Iterate over the reordered list\n",
    "    for i, element in enumerate(reordered_lst):\n",
    "        # Calculate the original index for the current element\n",
    "        original_index = (i * interval) % original_length\n",
    "        # Place the element back into its original position\n",
    "        original_order[original_index] = element\n",
    "\n",
    "    return original_order"
   ]
  },
  {
   "cell_type": "code",
   "execution_count": 120,
   "metadata": {},
   "outputs": [
    {
     "data": {
      "text/plain": [
       "[1, 5, 4, 3, 2]"
      ]
     },
     "execution_count": 120,
     "metadata": {},
     "output_type": "execute_result"
    }
   ],
   "source": [
    "reorder_by_interval(new,2)"
   ]
  },
  {
   "cell_type": "code",
   "execution_count": 119,
   "metadata": {},
   "outputs": [
    {
     "data": {
      "text/plain": [
       "[1, 4, 2, 5, 3]"
      ]
     },
     "execution_count": 119,
     "metadata": {},
     "output_type": "execute_result"
    }
   ],
   "source": [
    "reverse_reorder_by_interval(array,2)"
   ]
  },
  {
   "cell_type": "code",
   "execution_count": 360,
   "metadata": {},
   "outputs": [],
   "source": [
    "class decode:\n",
    "    def __init__(self):\n",
    "        self.letters = list('abcdefghijklmnopqrstuvwxyz')\n",
    "        self.cipher = {x: None for x in self.letters}\n",
    "    \n",
    "    def join(self,first, second):\n",
    "        self.cipher[first] = second\n",
    "        return self\n",
    "    \n",
    "    def flip(self):\n",
    "        self.cipher = {y:x for x,y in zip(self.cipher.keys(), self.cipher.values())}\n",
    "        return self\n",
    "    \n",
    "    def group_join(self, array1, array2):\n",
    "        for x,y in zip(array1,array2):\n",
    "            self.join(x,y)\n",
    "    def _construct(self, string):\n",
    "        result = ''\n",
    "        for char in string.lower():\n",
    "            if char in self.cipher.keys():\n",
    "                result += self.cipher[char] \n",
    "            else:\n",
    "                result += char\n",
    "        return result\n",
    "    def construct(self, string):\n",
    "        print(self._construct(string))\n",
    "        self.flip()\n",
    "        print(self._construct(string))\n",
    "        self.flip()"
   ]
  },
  {
   "cell_type": "code",
   "execution_count": 361,
   "metadata": {},
   "outputs": [
    {
     "name": "stdout",
     "output_type": "stream",
     "text": [
      "xe e\n",
      "fm m\n"
     ]
    }
   ],
   "source": [
    "d = decode()\n",
    "d.group_join(list('biehzsnrdgvwomqacxjfypklut'),list('xeadvojnzcrskimwytfbulghqgp'))\n",
    "d.construct('bi i')"
   ]
  },
  {
   "cell_type": "code",
   "execution_count": 362,
   "metadata": {},
   "outputs": [
    {
     "data": {
      "text/plain": [
       "<__main__.decode at 0x2945dc63400>"
      ]
     },
     "execution_count": 362,
     "metadata": {},
     "output_type": "execute_result"
    }
   ],
   "source": [
    "d.flip()"
   ]
  },
  {
   "cell_type": "code",
   "execution_count": 244,
   "metadata": {},
   "outputs": [
    {
     "name": "stdout",
     "output_type": "stream",
     "text": [
      "ckkz sknk\n",
      "tssh asvo\n"
     ]
    }
   ],
   "source": [
    "d.construct('GOOD WORK')"
   ]
  },
  {
   "cell_type": "code",
   "execution_count": 363,
   "metadata": {},
   "outputs": [
    {
     "name": "stdout",
     "output_type": "stream",
     "text": [
      "phe shadows conceal phe pruph\n",
      "lzw kzsvkok ukfuwsd lzw ljmlz\n"
     ]
    }
   ],
   "source": [
    "d.construct('Pda odwzkso ykjyawh pda pnqpd')"
   ]
  },
  {
   "cell_type": "code",
   "execution_count": 200,
   "metadata": {},
   "outputs": [
    {
     "name": "stdout",
     "output_type": "stream",
     "text": [
      "de cquo! ydayk kqg gdeo saenz leaya kb lwlan ej iu dkqoa! ezk sdwg wju kb gdeo iawjo! #a7sdwgoykiejc\n",
      "lm tycw! gligo syx xlmw aimvh pmigi sj pepiv mr qc lsywi! mho alex erc sj xlmw qierw! #i7alexwgsqmrt\n"
     ]
    }
   ],
   "source": [
    "d.construct('Hi guys! Check out this weird piece of paper in my house! IDK what any of this means! #E7whatscoming')"
   ]
  },
  {
   "cell_type": "code",
   "execution_count": 245,
   "metadata": {},
   "outputs": [
    {
     "name": "stdout",
     "output_type": "stream",
     "text": [
      "ianqnej iuoganekqo iweh\n",
      "qivyvmr qcwxivmsyw qemp\n"
     ]
    }
   ],
   "source": [
    "d.construct('MERURIN MYSTERIOUS MAIL')"
   ]
  },
  {
   "cell_type": "code",
   "execution_count": 247,
   "metadata": {},
   "outputs": [
    {
     "name": "stderr",
     "output_type": "stream",
     "text": [
      "[nltk_data] Downloading package wordnet to\n",
      "[nltk_data]     C:\\Users\\USER\\AppData\\Roaming\\nltk_data...\n",
      "[nltk_data]   Package wordnet is already up-to-date!\n"
     ]
    },
    {
     "ename": "KeyboardInterrupt",
     "evalue": "Interrupted by user",
     "output_type": "error",
     "traceback": [
      "\u001b[1;31m---------------------------------------------------------------------------\u001b[0m",
      "\u001b[1;31mKeyboardInterrupt\u001b[0m                         Traceback (most recent call last)",
      "Cell \u001b[1;32mIn[247], line 12\u001b[0m\n\u001b[0;32m      9\u001b[0m     \u001b[38;5;28;01mreturn\u001b[39;00m wordnet\u001b[38;5;241m.\u001b[39msynsets(word)\n\u001b[0;32m     11\u001b[0m \u001b[38;5;66;03m# Input word from the user\u001b[39;00m\n\u001b[1;32m---> 12\u001b[0m input_word \u001b[38;5;241m=\u001b[39m \u001b[38;5;28;43minput\u001b[39;49m\u001b[43m(\u001b[49m\u001b[38;5;124;43m\"\u001b[39;49m\u001b[38;5;124;43mEnter a word to check if it\u001b[39;49m\u001b[38;5;124;43m'\u001b[39;49m\u001b[38;5;124;43ms a real word: \u001b[39;49m\u001b[38;5;124;43m\"\u001b[39;49m\u001b[43m)\u001b[49m\n\u001b[0;32m     14\u001b[0m \u001b[38;5;66;03m# Check if the word is a real word\u001b[39;00m\n\u001b[0;32m     15\u001b[0m \u001b[38;5;28;01mif\u001b[39;00m is_real_word(input_word):\n",
      "File \u001b[1;32m~\\AppData\\Roaming\\Python\\Python310\\site-packages\\ipykernel\\kernelbase.py:1191\u001b[0m, in \u001b[0;36mKernel.raw_input\u001b[1;34m(self, prompt)\u001b[0m\n\u001b[0;32m   1189\u001b[0m     msg \u001b[38;5;241m=\u001b[39m \u001b[38;5;124m\"\u001b[39m\u001b[38;5;124mraw_input was called, but this frontend does not support input requests.\u001b[39m\u001b[38;5;124m\"\u001b[39m\n\u001b[0;32m   1190\u001b[0m     \u001b[38;5;28;01mraise\u001b[39;00m StdinNotImplementedError(msg)\n\u001b[1;32m-> 1191\u001b[0m \u001b[38;5;28;01mreturn\u001b[39;00m \u001b[38;5;28;43mself\u001b[39;49m\u001b[38;5;241;43m.\u001b[39;49m\u001b[43m_input_request\u001b[49m\u001b[43m(\u001b[49m\n\u001b[0;32m   1192\u001b[0m \u001b[43m    \u001b[49m\u001b[38;5;28;43mstr\u001b[39;49m\u001b[43m(\u001b[49m\u001b[43mprompt\u001b[49m\u001b[43m)\u001b[49m\u001b[43m,\u001b[49m\n\u001b[0;32m   1193\u001b[0m \u001b[43m    \u001b[49m\u001b[38;5;28;43mself\u001b[39;49m\u001b[38;5;241;43m.\u001b[39;49m\u001b[43m_parent_ident\u001b[49m\u001b[43m[\u001b[49m\u001b[38;5;124;43m\"\u001b[39;49m\u001b[38;5;124;43mshell\u001b[39;49m\u001b[38;5;124;43m\"\u001b[39;49m\u001b[43m]\u001b[49m\u001b[43m,\u001b[49m\n\u001b[0;32m   1194\u001b[0m \u001b[43m    \u001b[49m\u001b[38;5;28;43mself\u001b[39;49m\u001b[38;5;241;43m.\u001b[39;49m\u001b[43mget_parent\u001b[49m\u001b[43m(\u001b[49m\u001b[38;5;124;43m\"\u001b[39;49m\u001b[38;5;124;43mshell\u001b[39;49m\u001b[38;5;124;43m\"\u001b[39;49m\u001b[43m)\u001b[49m\u001b[43m,\u001b[49m\n\u001b[0;32m   1195\u001b[0m \u001b[43m    \u001b[49m\u001b[43mpassword\u001b[49m\u001b[38;5;241;43m=\u001b[39;49m\u001b[38;5;28;43;01mFalse\u001b[39;49;00m\u001b[43m,\u001b[49m\n\u001b[0;32m   1196\u001b[0m \u001b[43m\u001b[49m\u001b[43m)\u001b[49m\n",
      "File \u001b[1;32m~\\AppData\\Roaming\\Python\\Python310\\site-packages\\ipykernel\\kernelbase.py:1234\u001b[0m, in \u001b[0;36mKernel._input_request\u001b[1;34m(self, prompt, ident, parent, password)\u001b[0m\n\u001b[0;32m   1231\u001b[0m \u001b[38;5;28;01mexcept\u001b[39;00m \u001b[38;5;167;01mKeyboardInterrupt\u001b[39;00m:\n\u001b[0;32m   1232\u001b[0m     \u001b[38;5;66;03m# re-raise KeyboardInterrupt, to truncate traceback\u001b[39;00m\n\u001b[0;32m   1233\u001b[0m     msg \u001b[38;5;241m=\u001b[39m \u001b[38;5;124m\"\u001b[39m\u001b[38;5;124mInterrupted by user\u001b[39m\u001b[38;5;124m\"\u001b[39m\n\u001b[1;32m-> 1234\u001b[0m     \u001b[38;5;28;01mraise\u001b[39;00m \u001b[38;5;167;01mKeyboardInterrupt\u001b[39;00m(msg) \u001b[38;5;28;01mfrom\u001b[39;00m \u001b[38;5;28;01mNone\u001b[39;00m\n\u001b[0;32m   1235\u001b[0m \u001b[38;5;28;01mexcept\u001b[39;00m \u001b[38;5;167;01mException\u001b[39;00m:\n\u001b[0;32m   1236\u001b[0m     \u001b[38;5;28mself\u001b[39m\u001b[38;5;241m.\u001b[39mlog\u001b[38;5;241m.\u001b[39mwarning(\u001b[38;5;124m\"\u001b[39m\u001b[38;5;124mInvalid Message:\u001b[39m\u001b[38;5;124m\"\u001b[39m, exc_info\u001b[38;5;241m=\u001b[39m\u001b[38;5;28;01mTrue\u001b[39;00m)\n",
      "\u001b[1;31mKeyboardInterrupt\u001b[0m: Interrupted by user"
     ]
    }
   ],
   "source": [
    "import nltk\n",
    "from nltk.corpus import wordnet\n",
    "\n",
    "# Download the WordNet corpus (if not already downloaded)\n",
    "nltk.download('wordnet')\n",
    "\n",
    "def is_real_word(word):\n",
    "    # Check if the word is in the WordNet corpus\n",
    "    return wordnet.synsets(word)\n",
    "\n",
    "# Input word from the user\n",
    "input_word = input(\"Enter a word to check if it's a real word: \")\n",
    "\n",
    "# Check if the word is a real word\n",
    "if is_real_word(input_word):\n",
    "    print(f\"'{input_word}' is a real word.\")\n",
    "else:\n",
    "    print(f\"'{input_word}' is not a real word.\")"
   ]
  },
  {
   "cell_type": "code",
   "execution_count": null,
   "metadata": {},
   "outputs": [],
   "source": []
  },
  {
   "cell_type": "code",
   "execution_count": 208,
   "metadata": {},
   "outputs": [
    {
     "data": {
      "text/plain": [
       "{'a': 'w',\n",
       " 'b': 'x',\n",
       " 'c': 'y',\n",
       " 'd': 'z',\n",
       " 'e': 'a',\n",
       " 'f': 'b',\n",
       " 'g': 'c',\n",
       " 'h': 'd',\n",
       " 'i': 'e',\n",
       " 'j': 'f',\n",
       " 't': 'g',\n",
       " 'l': 'h',\n",
       " 'm': 'i',\n",
       " 'n': 'j',\n",
       " 'o': 'k',\n",
       " 'p': 'l',\n",
       " 'q': 'm',\n",
       " 'r': 'n',\n",
       " 's': 'o',\n",
       " 'u': 'q',\n",
       " 'v': 'r',\n",
       " 'w': 's',\n",
       " 'x': 't',\n",
       " 'y': 'u',\n",
       " 'z': 'v'}"
      ]
     },
     "execution_count": 208,
     "metadata": {},
     "output_type": "execute_result"
    }
   ],
   "source": [
    "d.cipher"
   ]
  },
  {
   "cell_type": "code",
   "execution_count": 248,
   "metadata": {},
   "outputs": [],
   "source": [
    "array = [[  54,  317,   25,   25],\n",
    " [  55,  234,   25,   25],\n",
    " [  55,  400,   25,   25],\n",
    " [  55,  483,   25,   25],\n",
    " [  55,  151,   25,   25],\n",
    " [  55,  566,   25,   25],\n",
    " [  55,   68,   25,   25],\n",
    " [  55,  677,   25,   25],\n",
    " [  55,   40,   25,   25],\n",
    " [  89,  317,   25,   25],\n",
    " [  90,  677,   25,   25],\n",
    " [  90,  483,   25,   25],\n",
    " [  90,  151,   25,   25],\n",
    " [  90,   68,   25,   25],\n",
    " [  90,  566,   25,   25],\n",
    " [  90,  400,   25,   25],\n",
    " [  90,   40,   25,   25],\n",
    " [  90,  234,   25,   25],\n",
    " [ 124,  317,   25,   25],\n",
    " [ 160,  317,   25,   25],\n",
    " [ 161,   68,   25,   25],\n",
    " [ 161,   40,   25,   25],\n",
    " [ 161,  400,   25,   25],\n",
    " [ 161,  677,   25,   25],\n",
    " [ 161,  566,   25,   25],\n",
    " [ 161,  151,   25,   25],\n",
    " [ 161,  483,   25,   25],\n",
    " [ 161,  234,   25,   25],\n",
    " [ 234,  566,   25,   25],\n",
    " [ 234,   40,   25,   25],\n",
    " [ 234,  151,   25,   25],\n",
    " [ 234,   68,   25,   25],\n",
    " [ 234,  483,   25,   25],\n",
    " [ 234,  317,   25,   25],\n",
    " [ 234,  234,   25,   25],\n",
    " [ 234,  677,   25,   25],\n",
    " [ 234,  400,   25,   25],\n",
    " [ 269,  400,   25,   25],\n",
    " [ 269,  317,   25,   25],\n",
    " [ 269,  234,   25,   25],\n",
    " [ 269,  151,   25,   25],\n",
    " [ 269,   40,   25,   25],\n",
    " [ 269,  566,   25,   25],\n",
    " [ 269,  483,   25,   25],\n",
    " [ 269,   68,   25,   25],\n",
    " [ 269,  677,   25,   25],\n",
    " [ 305,  234,   25,   25],\n",
    " [ 305,  317,   25,   25],\n",
    " [ 305,  400,   25,   25],\n",
    " [ 305,  151,   25,   25],\n",
    " [ 305,  483,   25,   25],\n",
    " [ 305,   68,   25,   25],\n",
    " [ 305,   40,   25,   25],\n",
    " [ 305,  677,   25,   25],\n",
    " [ 340,   40,   25,   25],\n",
    " [ 340,  483,   25,   25],\n",
    " [ 340,   68,   25,   25],\n",
    " [ 340,  317,   25,   25],\n",
    " [ 340,  151,   25,   25],\n",
    " [ 340,  400,   25,   25],\n",
    " [ 340,  566,   25,   25],\n",
    " [ 340,  234,   25,   25]]"
   ]
  },
  {
   "cell_type": "code",
   "execution_count": 250,
   "metadata": {},
   "outputs": [],
   "source": [
    "import numpy as np"
   ]
  },
  {
   "cell_type": "code",
   "execution_count": 251,
   "metadata": {},
   "outputs": [],
   "source": [
    "array = np.array(array)"
   ]
  },
  {
   "cell_type": "code",
   "execution_count": 252,
   "metadata": {},
   "outputs": [
    {
     "data": {
      "text/plain": [
       "array([[ 54, 317,  25,  25],\n",
       "       [ 55, 234,  25,  25],\n",
       "       [ 55, 400,  25,  25],\n",
       "       [ 55, 483,  25,  25],\n",
       "       [ 55, 151,  25,  25],\n",
       "       [ 55, 566,  25,  25],\n",
       "       [ 55,  68,  25,  25],\n",
       "       [ 55, 677,  25,  25],\n",
       "       [ 55,  40,  25,  25],\n",
       "       [ 89, 317,  25,  25],\n",
       "       [ 90, 677,  25,  25],\n",
       "       [ 90, 483,  25,  25],\n",
       "       [ 90, 151,  25,  25],\n",
       "       [ 90,  68,  25,  25],\n",
       "       [ 90, 566,  25,  25],\n",
       "       [ 90, 400,  25,  25],\n",
       "       [ 90,  40,  25,  25],\n",
       "       [ 90, 234,  25,  25],\n",
       "       [124, 317,  25,  25],\n",
       "       [160, 317,  25,  25],\n",
       "       [161,  68,  25,  25],\n",
       "       [161,  40,  25,  25],\n",
       "       [161, 400,  25,  25],\n",
       "       [161, 677,  25,  25],\n",
       "       [161, 566,  25,  25],\n",
       "       [161, 151,  25,  25],\n",
       "       [161, 483,  25,  25],\n",
       "       [161, 234,  25,  25],\n",
       "       [234, 566,  25,  25],\n",
       "       [234,  40,  25,  25],\n",
       "       [234, 151,  25,  25],\n",
       "       [234,  68,  25,  25],\n",
       "       [234, 483,  25,  25],\n",
       "       [234, 317,  25,  25],\n",
       "       [234, 234,  25,  25],\n",
       "       [234, 677,  25,  25],\n",
       "       [234, 400,  25,  25],\n",
       "       [269, 400,  25,  25],\n",
       "       [269, 317,  25,  25],\n",
       "       [269, 234,  25,  25],\n",
       "       [269, 151,  25,  25],\n",
       "       [269,  40,  25,  25],\n",
       "       [269, 566,  25,  25],\n",
       "       [269, 483,  25,  25],\n",
       "       [269,  68,  25,  25],\n",
       "       [269, 677,  25,  25],\n",
       "       [305, 234,  25,  25],\n",
       "       [305, 317,  25,  25],\n",
       "       [305, 400,  25,  25],\n",
       "       [305, 151,  25,  25],\n",
       "       [305, 483,  25,  25],\n",
       "       [305,  68,  25,  25],\n",
       "       [305,  40,  25,  25],\n",
       "       [305, 677,  25,  25],\n",
       "       [340,  40,  25,  25],\n",
       "       [340, 483,  25,  25],\n",
       "       [340,  68,  25,  25],\n",
       "       [340, 317,  25,  25],\n",
       "       [340, 151,  25,  25],\n",
       "       [340, 400,  25,  25],\n",
       "       [340, 566,  25,  25],\n",
       "       [340, 234,  25,  25]])"
      ]
     },
     "execution_count": 252,
     "metadata": {},
     "output_type": "execute_result"
    }
   ],
   "source": [
    "array"
   ]
  },
  {
   "cell_type": "code",
   "execution_count": 262,
   "metadata": {},
   "outputs": [
    {
     "data": {
      "text/plain": [
       "array([[234,  40,  25,  25],\n",
       "       [340,  40,  25,  25],\n",
       "       [161,  40,  25,  25],\n",
       "       [305,  40,  25,  25],\n",
       "       [ 55,  40,  25,  25],\n",
       "       [ 90,  40,  25,  25],\n",
       "       [269,  40,  25,  25],\n",
       "       [340,  68,  25,  25],\n",
       "       [ 55,  68,  25,  25],\n",
       "       [305,  68,  25,  25],\n",
       "       [161,  68,  25,  25],\n",
       "       [234,  68,  25,  25],\n",
       "       [269,  68,  25,  25],\n",
       "       [ 90,  68,  25,  25],\n",
       "       [234, 151,  25,  25],\n",
       "       [ 90, 151,  25,  25],\n",
       "       [305, 151,  25,  25],\n",
       "       [ 55, 151,  25,  25],\n",
       "       [340, 151,  25,  25],\n",
       "       [269, 151,  25,  25],\n",
       "       [161, 151,  25,  25],\n",
       "       [161, 234,  25,  25],\n",
       "       [269, 234,  25,  25],\n",
       "       [234, 234,  25,  25],\n",
       "       [305, 234,  25,  25],\n",
       "       [340, 234,  25,  25],\n",
       "       [ 55, 234,  25,  25],\n",
       "       [ 90, 234,  25,  25],\n",
       "       [ 54, 317,  25,  25],\n",
       "       [ 89, 317,  25,  25],\n",
       "       [269, 317,  25,  25],\n",
       "       [124, 317,  25,  25],\n",
       "       [234, 317,  25,  25],\n",
       "       [305, 317,  25,  25],\n",
       "       [160, 317,  25,  25],\n",
       "       [340, 317,  25,  25],\n",
       "       [305, 400,  25,  25],\n",
       "       [234, 400,  25,  25],\n",
       "       [269, 400,  25,  25],\n",
       "       [161, 400,  25,  25],\n",
       "       [ 90, 400,  25,  25],\n",
       "       [340, 400,  25,  25],\n",
       "       [ 55, 400,  25,  25],\n",
       "       [ 55, 483,  25,  25],\n",
       "       [305, 483,  25,  25],\n",
       "       [340, 483,  25,  25],\n",
       "       [161, 483,  25,  25],\n",
       "       [ 90, 483,  25,  25],\n",
       "       [234, 483,  25,  25],\n",
       "       [269, 483,  25,  25],\n",
       "       [161, 566,  25,  25],\n",
       "       [269, 566,  25,  25],\n",
       "       [ 55, 566,  25,  25],\n",
       "       [ 90, 566,  25,  25],\n",
       "       [340, 566,  25,  25],\n",
       "       [234, 566,  25,  25],\n",
       "       [269, 677,  25,  25],\n",
       "       [ 55, 677,  25,  25],\n",
       "       [305, 677,  25,  25],\n",
       "       [234, 677,  25,  25],\n",
       "       [161, 677,  25,  25],\n",
       "       [ 90, 677,  25,  25]])"
      ]
     },
     "execution_count": 262,
     "metadata": {},
     "output_type": "execute_result"
    }
   ],
   "source": [
    "sorted_indices = np.argsort(array[:, 1])\n",
    "        \n",
    "sorted_mat = array[sorted_indices]\n",
    "sorted_mat"
   ]
  },
  {
   "cell_type": "code",
   "execution_count": 341,
   "metadata": {},
   "outputs": [
    {
     "name": "stdout",
     "output_type": "stream",
     "text": [
      "['A', 'B', 'A', 'B', 'A', 'B', 'A', 'B', 'A', 'B', 'A', 'B', 'A', 'B', 'A', 'B', 'A', 'B', 'A', 'B', 'A', 'B', 'A', 'B', 'A', 'B', 'A', 'B', 'A', 'B', 'A', 'B', 'A', 'B', 'A', 'B', 'A', 'B', 'A', 'B', 'A', 'B', 'A', 'B', 'A', 'B', 'A', 'B', 'A', 'B', 'A', 'B', 'A', 'B', 'A', 'B', 'A', 'B', 'A', 'B', 'A', 'B', 'A', 'B', 'A', 'B', 'A', 'B', 'A', 'B', 'A', 'B', 'A', 'B', 'A', 'B', 'A', 'B', 'A', 'B', 'A', 'B', 'A', 'B', 'A', 'B', 'A', 'B', 'A', 'B', 'A', 'B', 'A', 'B', 'A', 'B', 'A', 'B', 'A', 'B']\n"
     ]
    },
    {
     "data": {
      "text/plain": [
       "['A',\n",
       " 'B',\n",
       " 'A',\n",
       " 'B',\n",
       " 'C',\n",
       " 'B',\n",
       " 'A',\n",
       " 'B',\n",
       " 'A',\n",
       " 'B',\n",
       " 'A',\n",
       " 'B',\n",
       " 'A',\n",
       " 'B',\n",
       " 'A',\n",
       " 'B',\n",
       " 'A',\n",
       " 'B',\n",
       " 'A',\n",
       " 'B',\n",
       " 'A',\n",
       " 'B',\n",
       " 'A',\n",
       " 'B',\n",
       " 'A',\n",
       " 'B',\n",
       " 'A',\n",
       " 'B',\n",
       " 'A',\n",
       " 'B',\n",
       " 'A',\n",
       " 'B',\n",
       " 'A',\n",
       " 'B',\n",
       " 'A',\n",
       " 'B',\n",
       " 'A',\n",
       " 'B',\n",
       " 'A',\n",
       " 'B',\n",
       " 'A',\n",
       " 'B',\n",
       " 'A',\n",
       " 'B',\n",
       " 'A',\n",
       " 'B',\n",
       " 'A',\n",
       " 'B',\n",
       " 'A',\n",
       " 'B',\n",
       " 'A',\n",
       " 'B',\n",
       " 'A',\n",
       " 'B',\n",
       " 'A',\n",
       " 'B',\n",
       " 'A',\n",
       " 'B',\n",
       " 'A',\n",
       " 'B',\n",
       " 'A',\n",
       " 'B',\n",
       " 'A',\n",
       " 'B',\n",
       " 'A',\n",
       " 'B',\n",
       " 'A',\n",
       " 'B',\n",
       " 'A',\n",
       " 'B',\n",
       " 'A',\n",
       " 'B',\n",
       " 'A',\n",
       " 'B',\n",
       " 'A',\n",
       " 'B',\n",
       " 'A',\n",
       " 'B',\n",
       " 'A',\n",
       " 'B',\n",
       " 'A',\n",
       " 'B',\n",
       " 'A',\n",
       " 'B',\n",
       " 'A',\n",
       " 'B',\n",
       " 'A',\n",
       " 'B',\n",
       " 'A',\n",
       " 'B',\n",
       " 'A',\n",
       " 'B',\n",
       " 'A',\n",
       " 'B',\n",
       " 'A',\n",
       " 'B',\n",
       " 'A',\n",
       " 'B',\n",
       " 'A',\n",
       " 'B']"
      ]
     },
     "execution_count": 341,
     "metadata": {},
     "output_type": "execute_result"
    }
   ],
   "source": [
    "answers0 = ['F', 'None', 'F', 'None', 'T', 'None', 'F', 'None', 'F', 'None', 'F', 'None', 'None', 'None', 'None', 'None', 'None', 'None', 'None', 'None', 'None', 'None', 'None', 'None', 'None', 'None', 'None', 'None', 'None', 'None', 'None', 'None', 'None', 'None', 'None', 'None', 'None', 'None', 'None', 'None', 'None', 'None', 'None', 'None', 'None', 'None', 'None', 'None', 'None', 'None']\n",
    "answers = []\n",
    "for x,y in zip(range(50), range(50)):\n",
    "    answers.append(\"A\")\n",
    "    answers.append(\"B\")\n",
    "print(answers)\n",
    "answers[4] = 'C'\n",
    "answers"
   ]
  },
  {
   "cell_type": "code",
   "execution_count": 280,
   "metadata": {},
   "outputs": [],
   "source": [
    "import math\n",
    "\n",
    "def _reset_order( reordered_lst, interval):\n",
    "        repeat_times = math.floor(len(reordered_lst)/interval)\n",
    "        result = []\n",
    "        for index in range(len(reordered_lst)):\n",
    "            temp_index = index\n",
    "            for repeat in range(0,repeat_times+1):\n",
    "                temp_index = temp_index + repeat*interval\n",
    "                result.append(temp_index)\n",
    "                if len(result) == len(reordered_lst): # stop, complete\n",
    "                    break\n",
    "            if len(result) == len(reordered_lst): #stop complete\n",
    "                break\n",
    "\n",
    "        \n",
    "        dic = {key:corr for key,corr in zip(result, reordered_lst)}\n",
    "        sorted_d = dict(sorted(dic.items()))\n",
    "        print(dic)\n",
    "        return list(sorted_d.values())"
   ]
  },
  {
   "cell_type": "code",
   "execution_count": 357,
   "metadata": {},
   "outputs": [],
   "source": [
    "import numpy as np\n",
    "def reset(self, lis, interval):\n",
    "    def orig_index(lis , interval):\n",
    "        column_num = math.ceil(len(lis)/interval)\n",
    "        maxi = len(lis)\n",
    "        index_list = []\n",
    "        for num in range(300):\n",
    "            num+=1\n",
    "            \n",
    "            for coli in range(column_num):\n",
    "                calc = (25*coli)+num\n",
    "                index_list.append(calc)\n",
    "                if calc == maxi:\n",
    "                    return index_list\n",
    "    orig = orig_index(lis,interval)\n",
    "    my_dict = {key:val for key,val in zip(orig,lis)}\n",
    "    array = []\n",
    "    for key in sorted(my_dict.keys()):\n",
    "        array.append(my_dict[key])\n",
    "        \n",
    "    \n",
    "    return array\n",
    "    \n",
    "\n",
    "    \n",
    "        \n",
    "        "
   ]
  },
  {
   "cell_type": "code",
   "execution_count": 359,
   "metadata": {},
   "outputs": [
    {
     "data": {
      "text/plain": [
       "['F',\n",
       " 'F',\n",
       " 'T',\n",
       " 'F',\n",
       " 'F',\n",
       " 'F',\n",
       " 'None',\n",
       " 'None',\n",
       " 'None',\n",
       " 'None',\n",
       " 'None',\n",
       " 'None',\n",
       " 'None',\n",
       " 'None',\n",
       " 'None',\n",
       " 'None',\n",
       " 'None',\n",
       " 'None',\n",
       " 'None',\n",
       " 'None',\n",
       " 'None',\n",
       " 'None',\n",
       " 'None',\n",
       " 'None',\n",
       " 'None',\n",
       " 'None',\n",
       " 'None',\n",
       " 'None',\n",
       " 'None',\n",
       " 'None',\n",
       " 'None',\n",
       " 'None',\n",
       " 'None',\n",
       " 'None',\n",
       " 'None',\n",
       " 'None',\n",
       " 'None',\n",
       " 'None',\n",
       " 'None',\n",
       " 'None',\n",
       " 'None',\n",
       " 'None',\n",
       " 'None',\n",
       " 'None',\n",
       " 'None',\n",
       " 'None',\n",
       " 'None',\n",
       " 'None',\n",
       " 'None',\n",
       " 'None']"
      ]
     },
     "execution_count": 359,
     "metadata": {},
     "output_type": "execute_result"
    }
   ],
   "source": [
    "reset(None,answers0,25)"
   ]
  },
  {
   "cell_type": "code",
   "execution_count": 345,
   "metadata": {},
   "outputs": [
    {
     "data": {
      "text/plain": [
       "['A',\n",
       " 'B',\n",
       " 'A',\n",
       " 'B',\n",
       " 'C',\n",
       " 'B',\n",
       " 'A',\n",
       " 'B',\n",
       " 'A',\n",
       " 'B',\n",
       " 'A',\n",
       " 'B',\n",
       " 'A',\n",
       " 'B',\n",
       " 'A',\n",
       " 'B',\n",
       " 'A',\n",
       " 'B',\n",
       " 'A',\n",
       " 'B',\n",
       " 'A',\n",
       " 'B',\n",
       " 'A',\n",
       " 'B',\n",
       " 'A',\n",
       " 'B',\n",
       " 'A',\n",
       " 'B',\n",
       " 'A',\n",
       " 'B',\n",
       " 'A',\n",
       " 'B',\n",
       " 'A',\n",
       " 'B',\n",
       " 'A',\n",
       " 'B',\n",
       " 'A',\n",
       " 'B',\n",
       " 'A',\n",
       " 'B',\n",
       " 'A',\n",
       " 'B',\n",
       " 'A',\n",
       " 'B',\n",
       " 'A',\n",
       " 'B',\n",
       " 'A',\n",
       " 'B',\n",
       " 'A',\n",
       " 'B',\n",
       " 'A',\n",
       " 'B',\n",
       " 'A',\n",
       " 'B',\n",
       " 'A',\n",
       " 'B',\n",
       " 'A',\n",
       " 'B',\n",
       " 'A',\n",
       " 'B',\n",
       " 'A',\n",
       " 'B',\n",
       " 'A',\n",
       " 'B',\n",
       " 'A',\n",
       " 'B',\n",
       " 'A',\n",
       " 'B',\n",
       " 'A',\n",
       " 'B',\n",
       " 'A',\n",
       " 'B',\n",
       " 'A',\n",
       " 'B',\n",
       " 'A',\n",
       " 'B',\n",
       " 'A',\n",
       " 'B',\n",
       " 'A',\n",
       " 'B',\n",
       " 'A',\n",
       " 'B',\n",
       " 'A',\n",
       " 'B',\n",
       " 'A',\n",
       " 'B',\n",
       " 'A',\n",
       " 'B',\n",
       " 'A',\n",
       " 'B',\n",
       " 'A',\n",
       " 'B',\n",
       " 'A',\n",
       " 'B',\n",
       " 'A',\n",
       " 'B',\n",
       " 'A',\n",
       " 'B',\n",
       " 'A',\n",
       " 'B']"
      ]
     },
     "execution_count": 345,
     "metadata": {},
     "output_type": "execute_result"
    }
   ],
   "source": [
    "answers"
   ]
  },
  {
   "cell_type": "code",
   "execution_count": 346,
   "metadata": {},
   "outputs": [
    {
     "name": "stdout",
     "output_type": "stream",
     "text": [
      "{0: 'A', 1: 'B', 2: 'A', 3: 'B', 4: 'C', 5: 'B', 6: 'A', 7: 'B', 8: 'A', 9: 'B', 10: 'A', 11: 'B', 12: 'A', 13: 'B', 14: 'A', 15: 'B', 16: 'A', 17: 'B', 18: 'A', 19: 'B', 20: 'A', 21: 'B', 22: 'A', 23: 'B', 24: 'A', 25: 'B', 26: 'A', 27: 'B', 28: 'A', 29: 'B', 30: 'A', 31: 'B', 32: 'A', 33: 'B', 34: 'A', 35: 'B', 36: 'A', 37: 'B', 38: 'A', 39: 'B', 40: 'A', 41: 'B', 42: 'A', 43: 'B', 44: 'A', 45: 'B', 46: 'A', 47: 'B', 48: 'A', 49: 'B', 50: 'A', 51: 'B', 52: 'A', 53: 'B', 54: 'A', 55: 'B', 56: 'A', 57: 'B', 58: 'A', 59: 'B', 60: 'A', 61: 'B', 62: 'A', 63: 'B', 64: 'A', 65: 'B', 66: 'A', 67: 'B', 68: 'A', 69: 'B', 70: 'A', 71: 'B', 72: 'A', 73: 'B', 74: 'A', 75: 'B', 76: 'A', 77: 'B', 78: 'A', 79: 'B', 80: 'A', 81: 'B', 82: 'A', 83: 'B', 84: 'A', 85: 'B', 86: 'A', 87: 'B', 88: 'A', 89: 'B', 90: 'A', 91: 'B', 92: 'A', 93: 'B', 94: 'A', 95: 'B', 96: 'A', 97: 'B', 98: 'A', 99: 'B'}\n"
     ]
    },
    {
     "data": {
      "text/plain": [
       "['A',\n",
       " 'B',\n",
       " 'A',\n",
       " 'B',\n",
       " 'C',\n",
       " 'B',\n",
       " 'A',\n",
       " 'B',\n",
       " 'A',\n",
       " 'B',\n",
       " 'A',\n",
       " 'B',\n",
       " 'A',\n",
       " 'B',\n",
       " 'A',\n",
       " 'B',\n",
       " 'A',\n",
       " 'B',\n",
       " 'A',\n",
       " 'B',\n",
       " 'A',\n",
       " 'B',\n",
       " 'A',\n",
       " 'B',\n",
       " 'A',\n",
       " 'B',\n",
       " 'A',\n",
       " 'B',\n",
       " 'A',\n",
       " 'B',\n",
       " 'A',\n",
       " 'B',\n",
       " 'A',\n",
       " 'B',\n",
       " 'A',\n",
       " 'B',\n",
       " 'A',\n",
       " 'B',\n",
       " 'A',\n",
       " 'B',\n",
       " 'A',\n",
       " 'B',\n",
       " 'A',\n",
       " 'B',\n",
       " 'A',\n",
       " 'B',\n",
       " 'A',\n",
       " 'B',\n",
       " 'A',\n",
       " 'B',\n",
       " 'A',\n",
       " 'B',\n",
       " 'A',\n",
       " 'B',\n",
       " 'A',\n",
       " 'B',\n",
       " 'A',\n",
       " 'B',\n",
       " 'A',\n",
       " 'B',\n",
       " 'A',\n",
       " 'B',\n",
       " 'A',\n",
       " 'B',\n",
       " 'A',\n",
       " 'B',\n",
       " 'A',\n",
       " 'B',\n",
       " 'A',\n",
       " 'B',\n",
       " 'A',\n",
       " 'B',\n",
       " 'A',\n",
       " 'B',\n",
       " 'A',\n",
       " 'B',\n",
       " 'A',\n",
       " 'B',\n",
       " 'A',\n",
       " 'B',\n",
       " 'A',\n",
       " 'B',\n",
       " 'A',\n",
       " 'B',\n",
       " 'A',\n",
       " 'B',\n",
       " 'A',\n",
       " 'B',\n",
       " 'A',\n",
       " 'B',\n",
       " 'A',\n",
       " 'B',\n",
       " 'A',\n",
       " 'B',\n",
       " 'A',\n",
       " 'B',\n",
       " 'A',\n",
       " 'B',\n",
       " 'A',\n",
       " 'B']"
      ]
     },
     "execution_count": 346,
     "metadata": {},
     "output_type": "execute_result"
    }
   ],
   "source": [
    "_reset_order(answers, 125)"
   ]
  },
  {
   "cell_type": "code",
   "execution_count": null,
   "metadata": {},
   "outputs": [],
   "source": []
  }
 ],
 "metadata": {
  "kernelspec": {
   "display_name": "Python 3",
   "language": "python",
   "name": "python3"
  },
  "language_info": {
   "codemirror_mode": {
    "name": "ipython",
    "version": 3
   },
   "file_extension": ".py",
   "mimetype": "text/x-python",
   "name": "python",
   "nbconvert_exporter": "python",
   "pygments_lexer": "ipython3",
   "version": "3.10.8"
  }
 },
 "nbformat": 4,
 "nbformat_minor": 2
}
